{
 "cells": [
  {
   "cell_type": "code",
   "execution_count": 2,
   "metadata": {},
   "outputs": [],
   "source": [
    "import firebase_admin\n",
    "from firebase_admin import credentials\n",
    "from firebase_admin import firestore\n",
    "\n",
    "# Use a service account.\n",
    "cred = credentials.Certificate('virtual-librarian-3c571-firebase-adminsdk-l7qi1-c0a3103d7b.json')\n",
    "\n",
    "app = firebase_admin.initialize_app(cred)\n",
    "\n",
    "db = firestore.client()"
   ]
  },
  {
   "cell_type": "code",
   "execution_count": 3,
   "metadata": {},
   "outputs": [
    {
     "name": "stdout",
     "output_type": "stream",
     "text": [
      "[['https://firebasestorage.googleapis.com/v0/b/virtual-librarian-3c571.appspot.com/o/20951A6633_week6.pdf?alt=media&token=104d4cf7-0ab0-4d02-b24f-e47ce77155b5', 'AI_LN'], ['https://firebasestorage.googleapis.com/v0/b/virtual-librarian-3c571.appspot.com/o/B.TECH_I_AND_II_SEMESTER_ACADEMIC_CALENDAR_2022-23.pdf?alt=media&token=05a07fda-7dbe-4a5a-9d10-02cc3a89fa33', 'B.TECH_I_AND_II_SEMESTER_ACADEMIC_CALENDAR_2022-23.pdf'], ['https://firebasestorage.googleapis.com/v0/b/virtual-librarian-3c571.appspot.com/o/B.TECH_I_AND_II_SEMESTER_ACADEMIC_CALENDAR_2022-23.pdf?alt=media&token=100cac32-2e57-4457-b40f-18c504fcb3a8', 'B.TECH_I_AND_II_SEMESTER_ACADEMIC_CALENDAR_2022-23.pdf'], ['https://firebasestorage.googleapis.com/v0/b/virtual-librarian-3c571.appspot.com/o/B.TECH_I_AND_II_SEMESTER_ACADEMIC_CALENDAR_2022-23.pdf?alt=media&token=05976a58-7c35-4487-b456-65ecb1ddae03', 'B.TECH_I_AND_II_SEMESTER_ACADEMIC_CALENDAR_2022-23.pdf'], ['https://firebasestorage.googleapis.com/v0/b/virtual-librarian-3c571.appspot.com/o/AI%20MOD%203.pdf?alt=media&token=8d4c6ab4-937d-4e21-8475-df0e89279613', 'AI_NOTES'], ['https://firebasestorage.googleapis.com/v0/b/virtual-librarian-3c571.appspot.com/o/B.TECH_I_AND_II_SEMESTER_ACADEMIC_CALENDAR_2022-23.pdf?alt=media&token=19499d70-6a77-43ec-8b5e-ee0fd1e1d5f0', 'B.TECH_I_AND_II_SEMESTER_ACADEMIC_CALENDAR_2022-23.pdf'], ['https://firebasestorage.googleapis.com/v0/b/virtual-librarian-3c571.appspot.com/o/B.TECH_I_AND_II_SEMESTER_ACADEMIC_CALENDAR_2022-23.pdf?alt=media&token=94888308-2c70-4fbd-94ff-256db28ef491', 'B.TECH_I_AND_II_SEMESTER_ACADEMIC_CALENDAR_2022-23.pdf'], ['https://firebasestorage.googleapis.com/v0/b/virtual-librarian-3c571.appspot.com/o/AI_LN.pdf?alt=media&token=68e1a8e1-b417-4ed3-82a7-4632c5605704', 'AI_MOD3'], ['https://firebasestorage.googleapis.com/v0/b/virtual-librarian-3c571.appspot.com/o/B.TECH_I_AND_II_SEMESTER_ACADEMIC_CALENDAR_2022-23.pdf?alt=media&token=d907bbaa-233d-4cc6-b287-a84f92930879', 'B.TECH_I_AND_II_SEMESTER_ACADEMIC_CALENDAR_2022-23.pdf'], ['https://firebasestorage.googleapis.com/v0/b/virtual-librarian-3c571.appspot.com/o/AI_MOD_4.pdf?alt=media&token=3c78f327-979e-4356-8302-9e57228355f0', 'AI_QB'], ['https://firebasestorage.googleapis.com/v0/b/virtual-librarian-3c571.appspot.com/o/AI_NOTES.pdf?alt=media&token=caa46eaa-f32b-4c25-b80c-766e504fa1a4', 'AI'], ['https://firebasestorage.googleapis.com/v0/b/virtual-librarian-3c571.appspot.com/o/AI%20Lecture%20Notes.pdf?alt=media&token=c09d08fa-c4be-47fd-b7fd-2d3dccfedd0d', 'AI_QP']]\n"
     ]
    }
   ],
   "source": [
    "docs = db.collection(u'pdf').stream()\n",
    "l=[]\n",
    "for doc in docs:\n",
    "    # print(f'{doc.id} => {doc.to_dict()}')\n",
    "    l.append([doc.to_dict()['url'],doc.to_dict()['name']])\n",
    "print(l)"
   ]
  },
  {
   "cell_type": "code",
   "execution_count": null,
   "metadata": {},
   "outputs": [],
   "source": []
  }
 ],
 "metadata": {
  "kernelspec": {
   "display_name": "Python 3",
   "language": "python",
   "name": "python3"
  },
  "language_info": {
   "codemirror_mode": {
    "name": "ipython",
    "version": 3
   },
   "file_extension": ".py",
   "mimetype": "text/x-python",
   "name": "python",
   "nbconvert_exporter": "python",
   "pygments_lexer": "ipython3",
   "version": "3.10.2 (tags/v3.10.2:a58ebcc, Jan 17 2022, 14:12:15) [MSC v.1929 64 bit (AMD64)]"
  },
  "orig_nbformat": 4,
  "vscode": {
   "interpreter": {
    "hash": "369f2c481f4da34e4445cda3fffd2e751bd1c4d706f27375911949ba6bb62e1c"
   }
  }
 },
 "nbformat": 4,
 "nbformat_minor": 2
}
